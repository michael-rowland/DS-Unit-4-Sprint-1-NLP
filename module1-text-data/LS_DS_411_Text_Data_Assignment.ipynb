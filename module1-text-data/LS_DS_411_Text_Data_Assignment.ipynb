{
 "cells": [
  {
   "cell_type": "markdown",
   "metadata": {},
   "source": [
    "<img align=\"left\" src=\"https://lever-client-logos.s3.amazonaws.com/864372b1-534c-480e-acd5-9711f850815c-1524247202159.png\" width=200>\n",
    "<br></br>\n",
    "<br></br>\n",
    "\n",
    "# Natural Language Processing (NLP)\n",
    "## *Data Science Unit 4 Sprint 1 Assignment 1*\n",
    "\n",
    "Your goal in this assignment: find the attributes of the best & worst coffee shops in the dataset. The text is fairly raw: dates in the review, extra words in the `star_rating` column, etc. You'll probably want to clean that stuff up for a better analysis. \n",
    "\n",
    "Analyze the corpus of text using text visualizations of token frequency. Try cleaning the data as much as possible. Try the following techniques: \n",
    "- Lemmatization\n",
    "- Custom stopword removal\n",
    "\n",
    "Keep in mind the attributes of good tokens. Once you have a solid baseline, layer in the star rating in your visualization(s). Key part of this assignment - produce a write-up of the attributes of the best and worst coffee shops. Based on your analysis, what makes the best the best and the worst the worst. Use graphs and numbesr from your analysis to support your conclusions. There should be plenty of markdown cells! :coffee:"
   ]
  },
  {
   "cell_type": "code",
   "execution_count": 1,
   "metadata": {},
   "outputs": [
    {
     "data": {
      "image/jpeg": "[encoded data removed]",
      "text/html": [
       "\n",
       "        <iframe\n",
       "            width=\"400\"\n",
       "            height=\"300\"\n",
       "            src=\"https://www.youtube.com/embed/Jml7NVYm8cs\"\n",
       "            frameborder=\"0\"\n",
       "            allowfullscreen\n",
       "        ></iframe>\n",
       "        "
      ],
      "text/plain": [
       "<IPython.lib.display.YouTubeVideo at 0x10c33e320>"
      ]
     },
     "execution_count": 1,
     "metadata": {},
     "output_type": "execute_result"
    }
   ],
   "source": [
    "from IPython.display import YouTubeVideo\n",
    "\n",
    "YouTubeVideo('Jml7NVYm8cs')"
   ]
  },
  {
   "cell_type": "code",
   "execution_count": 2,
   "metadata": {},
   "outputs": [
    {
     "data": {
      "text/plain": [
       "'/Users/michael/Google Drive/lambda/4-1/DS-Unit-4-Sprint-1-NLP/module1-text-data'"
      ]
     },
     "execution_count": 2,
     "metadata": {},
     "output_type": "execute_result"
    }
   ],
   "source": [
    "%pwd"
   ]
  },
  {
   "cell_type": "code",
   "execution_count": 63,
   "metadata": {},
   "outputs": [
    {
     "data": {
      "text/html": [
       "<div>\n",
       "<style scoped>\n",
       "    .dataframe tbody tr th:only-of-type {\n",
       "        vertical-align: middle;\n",
       "    }\n",
       "\n",
       "    .dataframe tbody tr th {\n",
       "        vertical-align: top;\n",
       "    }\n",
       "\n",
       "    .dataframe thead th {\n",
       "        text-align: right;\n",
       "    }\n",
       "</style>\n",
       "<table border=\"1\" class=\"dataframe\">\n",
       "  <thead>\n",
       "    <tr style=\"text-align: right;\">\n",
       "      <th></th>\n",
       "      <th>coffee_shop_name</th>\n",
       "      <th>full_review_text</th>\n",
       "      <th>star_rating</th>\n",
       "      <th>date</th>\n",
       "    </tr>\n",
       "  </thead>\n",
       "  <tbody>\n",
       "    <tr>\n",
       "      <th>0</th>\n",
       "      <td>The Factory - Cafe With a Soul</td>\n",
       "      <td>1 check-in Love love loved the atmosphere! Eve...</td>\n",
       "      <td>5.0</td>\n",
       "      <td>11/25/2016</td>\n",
       "    </tr>\n",
       "    <tr>\n",
       "      <th>1</th>\n",
       "      <td>The Factory - Cafe With a Soul</td>\n",
       "      <td>Listed in Date Night: Austin, Ambiance in Aust...</td>\n",
       "      <td>4.0</td>\n",
       "      <td>12/2/2016</td>\n",
       "    </tr>\n",
       "    <tr>\n",
       "      <th>2</th>\n",
       "      <td>The Factory - Cafe With a Soul</td>\n",
       "      <td>1 check-in Listed in Brunch Spots I loved the ...</td>\n",
       "      <td>4.0</td>\n",
       "      <td>11/30/2016</td>\n",
       "    </tr>\n",
       "    <tr>\n",
       "      <th>3</th>\n",
       "      <td>The Factory - Cafe With a Soul</td>\n",
       "      <td>Very cool decor! Good drinks Nice seating  How...</td>\n",
       "      <td>2.0</td>\n",
       "      <td>11/25/2016</td>\n",
       "    </tr>\n",
       "    <tr>\n",
       "      <th>4</th>\n",
       "      <td>The Factory - Cafe With a Soul</td>\n",
       "      <td>1 check-in They are located within the Northcr...</td>\n",
       "      <td>4.0</td>\n",
       "      <td>12/3/2016</td>\n",
       "    </tr>\n",
       "  </tbody>\n",
       "</table>\n",
       "</div>"
      ],
      "text/plain": [
       "                  coffee_shop_name  \\\n",
       "0  The Factory - Cafe With a Soul    \n",
       "1  The Factory - Cafe With a Soul    \n",
       "2  The Factory - Cafe With a Soul    \n",
       "3  The Factory - Cafe With a Soul    \n",
       "4  The Factory - Cafe With a Soul    \n",
       "\n",
       "                                    full_review_text  star_rating        date  \n",
       "0  1 check-in Love love loved the atmosphere! Eve...          5.0  11/25/2016  \n",
       "1  Listed in Date Night: Austin, Ambiance in Aust...          4.0   12/2/2016  \n",
       "2  1 check-in Listed in Brunch Spots I loved the ...          4.0  11/30/2016  \n",
       "3  Very cool decor! Good drinks Nice seating  How...          2.0  11/25/2016  \n",
       "4  1 check-in They are located within the Northcr...          4.0   12/3/2016  "
      ]
     },
     "execution_count": 63,
     "metadata": {},
     "output_type": "execute_result"
    }
   ],
   "source": [
    "import pandas as pd\n",
    "\n",
    "url = \"https://raw.githubusercontent.com/LambdaSchool/DS-Unit-4-Sprint-1-NLP/master/module1-text-data/data/yelp_coffeeshop_review_data.csv\"\n",
    "\n",
    "shops = pd.read_csv(url)\n",
    "\n",
    "# Pulled out date value\n",
    "shops['full_review_text'] = shops['full_review_text'].str.split(' ', 2)\n",
    "shops['date'] = shops['full_review_text'].str[1]\n",
    "shops['full_review_text'] = shops['full_review_text'].str[2]\n",
    "\n",
    "# Cleaned 'star_rating'\n",
    "shops['star_rating'] = shops['star_rating'].str[:2].astype(float)\n",
    "\n",
    "shops.head()"
   ]
  },
  {
   "cell_type": "markdown",
   "metadata": {},
   "source": [
    "## How do we want to analyze these coffee shop tokens? \n",
    "\n",
    "- Overall Word / Token Count\n",
    "- View Counts by Rating \n",
    "- *Hint:* a 'bad' coffee shops has a rating betweeen 1 & 3 based on the distribution of ratings. A 'good' coffee shop is a 4 or 5. "
   ]
  },
  {
   "cell_type": "code",
   "execution_count": 96,
   "metadata": {},
   "outputs": [],
   "source": [
    "import re\n",
    "import spacy\n",
    "from spacy.tokenizer import Tokenizer\n",
    "from collections import Counter\n",
    "import squarify\n",
    "import matplotlib.pyplot as plt\n",
    "import seaborn as sns"
   ]
  },
  {
   "cell_type": "code",
   "execution_count": 67,
   "metadata": {},
   "outputs": [],
   "source": [
    "def tokenize(df_column):\n",
    "    '''\n",
    "    Input: dataframe column of text\n",
    "    Output: list of tokenized text\n",
    "    '''\n",
    "    tokenizer = Tokenizer(nlp.vocab)\n",
    "    \n",
    "    tokens = []\n",
    "    \n",
    "    for doc in tokenizer.pipe(df_column, batch_size=500):\n",
    "        doc_tokens = []\n",
    "        \n",
    "        for token in doc:\n",
    "            if (token.is_stop == False) & (token.is_punct == False):\n",
    "                doc_tokens.append(token.text.lower())\n",
    "                \n",
    "        tokens.append(doc_tokens)\n",
    "        \n",
    "    return tokens"
   ]
  },
  {
   "cell_type": "code",
   "execution_count": 69,
   "metadata": {},
   "outputs": [],
   "source": [
    "shops['tokens'] = tokenize(shops['full_review_text'])"
   ]
  },
  {
   "cell_type": "code",
   "execution_count": 85,
   "metadata": {},
   "outputs": [],
   "source": [
    "nlp = spacy.load('en_core_web_lg')"
   ]
  },
  {
   "cell_type": "code",
   "execution_count": 89,
   "metadata": {},
   "outputs": [],
   "source": [
    "STOP_WORDS = nlp.Defaults.stop_words.union(['coffee'])"
   ]
  },
  {
   "cell_type": "code",
   "execution_count": 90,
   "metadata": {},
   "outputs": [],
   "source": [
    "def get_lemmas(text):\n",
    "    '''\n",
    "    Input: dataframe column of text\n",
    "    Output: list of lemmas\n",
    "    '''\n",
    "    doc = nlp(text)\n",
    "    \n",
    "    lemmas = []\n",
    "    \n",
    "    for token in doc:\n",
    "        if (token.text.lower() not in STOP_WORDS) & (token.is_punct == False) & (token.pos_ != 'PRON') & (token.is_alpha == True):\n",
    "            lemmas.append(token.lemma_)\n",
    "            \n",
    "    return lemmas"
   ]
  },
  {
   "cell_type": "code",
   "execution_count": 91,
   "metadata": {},
   "outputs": [],
   "source": [
    "shops['lemmas'] = shops['full_review_text'].apply(get_lemmas)"
   ]
  },
  {
   "cell_type": "code",
   "execution_count": 92,
   "metadata": {},
   "outputs": [],
   "source": [
    "def count(docs):\n",
    "        '''\n",
    "        NEED TO ADD MY OWN FUNCTIONALITY HERE\n",
    "        FEATURE: KEEP AVERAGE RATING\n",
    "        '''\n",
    "        word_counts = Counter()\n",
    "        appears_in = Counter()\n",
    "        \n",
    "        total_docs = len(docs)\n",
    "\n",
    "        for doc in docs:\n",
    "            word_counts.update(doc)\n",
    "            appears_in.update(set(doc))\n",
    "\n",
    "        temp = zip(word_counts.keys(), word_counts.values())\n",
    "        \n",
    "        wc = pd.DataFrame(temp, columns = ['word', 'count'])\n",
    "\n",
    "        wc['rank'] = wc['count'].rank(method='first', ascending=False)\n",
    "        total = wc['count'].sum()\n",
    "\n",
    "        wc['pct_total'] = wc['count'].apply(lambda x: x / total)\n",
    "        \n",
    "        wc = wc.sort_values(by='rank')\n",
    "        wc['cul_pct_total'] = wc['pct_total'].cumsum()\n",
    "\n",
    "        t2 = zip(appears_in.keys(), appears_in.values())\n",
    "        ac = pd.DataFrame(t2, columns=['word', 'appears_in'])\n",
    "        wc = ac.merge(wc, on='word')\n",
    "\n",
    "        wc['appears_in_pct'] = wc['appears_in'].apply(lambda x: x / total_docs)\n",
    "        \n",
    "        return wc.sort_values(by='rank')"
   ]
  },
  {
   "cell_type": "code",
   "execution_count": 93,
   "metadata": {},
   "outputs": [],
   "source": [
    "good = shops[shops['star_rating'] >= 4]\n",
    "bad = shops[shops['star_rating'] < 4]"
   ]
  },
  {
   "cell_type": "code",
   "execution_count": 94,
   "metadata": {},
   "outputs": [],
   "source": [
    "bad_wc = count(bad['lemmas'])\n",
    "good_wc = count(good['lemmas'])"
   ]
  },
  {
   "cell_type": "code",
   "execution_count": 97,
   "metadata": {},
   "outputs": [],
   "source": [
    "def squarify_plot(df, threshold=20):\n",
    "    top_n = df[df['rank'] <= threshold]\n",
    "    squarify.plot(sizes=top_n['pct_total'], \n",
    "                  label=top_n['word'],\n",
    "                  alpha=0.8)\n",
    "    plt.axis('off')\n",
    "    plt.show()"
   ]
  },
  {
   "cell_type": "code",
   "execution_count": 99,
   "metadata": {},
   "outputs": [
    {
     "data": {
      "image/png": "[encoded data removed]",
      "text/plain": [
       "<Figure size 432x288 with 1 Axes>"
      ]
     },
     "metadata": {
      "needs_background": "light"
     },
     "output_type": "display_data"
    }
   ],
   "source": [
    "squarify_plot(bad_wc)"
   ]
  },
  {
   "cell_type": "code",
   "execution_count": 100,
   "metadata": {},
   "outputs": [
    {
     "data": {
      "image/png": "[encoded data removed]",
      "text/plain": [
       "<Figure size 432x288 with 1 Axes>"
      ]
     },
     "metadata": {
      "needs_background": "light"
     },
     "output_type": "display_data"
    }
   ],
   "source": [
    "squarify_plot(good_wc)"
   ]
  },
  {
   "cell_type": "markdown",
   "metadata": {},
   "source": [
    "## Can visualize the words with the greatest difference in counts between 'good' & 'bad'?\n",
    "\n",
    "Couple Notes: \n",
    "- Rel. freq. instead of absolute counts b/c of different numbers of reviews\n",
    "- Only look at the top 5-10 words with the greatest differences\n"
   ]
  },
  {
   "cell_type": "code",
   "execution_count": null,
   "metadata": {},
   "outputs": [],
   "source": [
    "good_wc = good_wc.set_index('word')\n",
    "bad_wc = bad_wc.set_index('word')"
   ]
  },
  {
   "cell_type": "code",
   "execution_count": 113,
   "metadata": {},
   "outputs": [
    {
     "data": {
      "text/html": [
       "<div>\n",
       "<style scoped>\n",
       "    .dataframe tbody tr th:only-of-type {\n",
       "        vertical-align: middle;\n",
       "    }\n",
       "\n",
       "    .dataframe tbody tr th {\n",
       "        vertical-align: top;\n",
       "    }\n",
       "\n",
       "    .dataframe thead th {\n",
       "        text-align: right;\n",
       "    }\n",
       "</style>\n",
       "<table border=\"1\" class=\"dataframe\">\n",
       "  <thead>\n",
       "    <tr style=\"text-align: right;\">\n",
       "      <th></th>\n",
       "      <th>appears_in_good</th>\n",
       "      <th>count_good</th>\n",
       "      <th>rank_good</th>\n",
       "      <th>pct_total_good</th>\n",
       "      <th>cul_pct_total_good</th>\n",
       "      <th>appears_in_pct_good</th>\n",
       "      <th>appears_in_bad</th>\n",
       "      <th>count_bad</th>\n",
       "      <th>rank_bad</th>\n",
       "      <th>pct_total_bad</th>\n",
       "      <th>cul_pct_total_bad</th>\n",
       "      <th>appears_in_pct_bad</th>\n",
       "    </tr>\n",
       "    <tr>\n",
       "      <th>word</th>\n",
       "      <th></th>\n",
       "      <th></th>\n",
       "      <th></th>\n",
       "      <th></th>\n",
       "      <th></th>\n",
       "      <th></th>\n",
       "      <th></th>\n",
       "      <th></th>\n",
       "      <th></th>\n",
       "      <th></th>\n",
       "      <th></th>\n",
       "      <th></th>\n",
       "    </tr>\n",
       "  </thead>\n",
       "  <tbody>\n",
       "    <tr>\n",
       "      <th>place</th>\n",
       "      <td>3123</td>\n",
       "      <td>4804</td>\n",
       "      <td>1.0</td>\n",
       "      <td>0.018096</td>\n",
       "      <td>0.018096</td>\n",
       "      <td>0.508632</td>\n",
       "      <td>752</td>\n",
       "      <td>1225</td>\n",
       "      <td>1.0</td>\n",
       "      <td>0.016561</td>\n",
       "      <td>0.016561</td>\n",
       "      <td>0.509485</td>\n",
       "    </tr>\n",
       "    <tr>\n",
       "      <th>good</th>\n",
       "      <td>2928</td>\n",
       "      <td>4344</td>\n",
       "      <td>2.0</td>\n",
       "      <td>0.016363</td>\n",
       "      <td>0.034459</td>\n",
       "      <td>0.476873</td>\n",
       "      <td>647</td>\n",
       "      <td>1000</td>\n",
       "      <td>2.0</td>\n",
       "      <td>0.013519</td>\n",
       "      <td>0.030080</td>\n",
       "      <td>0.438347</td>\n",
       "    </tr>\n",
       "    <tr>\n",
       "      <th>great</th>\n",
       "      <td>2497</td>\n",
       "      <td>3455</td>\n",
       "      <td>3.0</td>\n",
       "      <td>0.013014</td>\n",
       "      <td>0.047473</td>\n",
       "      <td>0.406678</td>\n",
       "      <td>347</td>\n",
       "      <td>462</td>\n",
       "      <td>10.0</td>\n",
       "      <td>0.006246</td>\n",
       "      <td>0.098513</td>\n",
       "      <td>0.235095</td>\n",
       "    </tr>\n",
       "    <tr>\n",
       "      <th>check</th>\n",
       "      <td>2686</td>\n",
       "      <td>2942</td>\n",
       "      <td>4.0</td>\n",
       "      <td>0.011082</td>\n",
       "      <td>0.058555</td>\n",
       "      <td>0.437459</td>\n",
       "      <td>488</td>\n",
       "      <td>526</td>\n",
       "      <td>8.0</td>\n",
       "      <td>0.007111</td>\n",
       "      <td>0.085535</td>\n",
       "      <td>0.330623</td>\n",
       "    </tr>\n",
       "    <tr>\n",
       "      <th>like</th>\n",
       "      <td>1677</td>\n",
       "      <td>2434</td>\n",
       "      <td>5.0</td>\n",
       "      <td>0.009168</td>\n",
       "      <td>0.067724</td>\n",
       "      <td>0.273127</td>\n",
       "      <td>596</td>\n",
       "      <td>945</td>\n",
       "      <td>3.0</td>\n",
       "      <td>0.012775</td>\n",
       "      <td>0.042855</td>\n",
       "      <td>0.403794</td>\n",
       "    </tr>\n",
       "  </tbody>\n",
       "</table>\n",
       "</div>"
      ],
      "text/plain": [
       "       appears_in_good  count_good  rank_good  pct_total_good  \\\n",
       "word                                                            \n",
       "place             3123        4804        1.0        0.018096   \n",
       "good              2928        4344        2.0        0.016363   \n",
       "great             2497        3455        3.0        0.013014   \n",
       "check             2686        2942        4.0        0.011082   \n",
       "like              1677        2434        5.0        0.009168   \n",
       "\n",
       "       cul_pct_total_good  appears_in_pct_good  appears_in_bad  count_bad  \\\n",
       "word                                                                        \n",
       "place            0.018096             0.508632             752       1225   \n",
       "good             0.034459             0.476873             647       1000   \n",
       "great            0.047473             0.406678             347        462   \n",
       "check            0.058555             0.437459             488        526   \n",
       "like             0.067724             0.273127             596        945   \n",
       "\n",
       "       rank_bad  pct_total_bad  cul_pct_total_bad  appears_in_pct_bad  \n",
       "word                                                                   \n",
       "place       1.0       0.016561           0.016561            0.509485  \n",
       "good        2.0       0.013519           0.030080            0.438347  \n",
       "great      10.0       0.006246           0.098513            0.235095  \n",
       "check       8.0       0.007111           0.085535            0.330623  \n",
       "like        3.0       0.012775           0.042855            0.403794  "
      ]
     },
     "execution_count": 113,
     "metadata": {},
     "output_type": "execute_result"
    }
   ],
   "source": [
    "joined = good_wc.join(bad_wc, how='inner', lsuffix='_good', rsuffix='_bad')\n",
    "joined.head()"
   ]
  },
  {
   "cell_type": "code",
   "execution_count": 120,
   "metadata": {},
   "outputs": [],
   "source": [
    "joined['diff'] = joined['appears_in_pct_good'] - joined['appears_in_pct_bad']\n",
    "joined['diff_rank'] = joined['diff'].rank(method='first', ascending=False)\n",
    "joined = joined.sort_values(by='diff_rank')"
   ]
  },
  {
   "cell_type": "code",
   "execution_count": 124,
   "metadata": {},
   "outputs": [
    {
     "data": {
      "text/plain": [
       "word\n",
       "great        0.171583\n",
       "delicious    0.124386\n",
       "love         0.118303\n",
       "friendly     0.107156\n",
       "check        0.106836\n",
       "Austin       0.087509\n",
       "amazing      0.079747\n",
       "perfect      0.074717\n",
       "favorite     0.071473\n",
       "in           0.064594\n",
       "Name: diff, dtype: float64"
      ]
     },
     "execution_count": 124,
     "metadata": {},
     "output_type": "execute_result"
    }
   ],
   "source": [
    "joined['diff'].head(10)"
   ]
  },
  {
   "cell_type": "code",
   "execution_count": 125,
   "metadata": {},
   "outputs": [
    {
     "data": {
      "text/plain": [
       "word\n",
       "review     -0.077306\n",
       "say        -0.078785\n",
       "customer   -0.081228\n",
       "taste      -0.084679\n",
       "go         -0.087955\n",
       "service    -0.092652\n",
       "bad        -0.094466\n",
       "ask        -0.098400\n",
       "order      -0.125856\n",
       "like       -0.130667\n",
       "Name: diff, dtype: float64"
      ]
     },
     "execution_count": 125,
     "metadata": {},
     "output_type": "execute_result"
    }
   ],
   "source": [
    "joined['diff'].tail(10)"
   ]
  },
  {
   "cell_type": "markdown",
   "metadata": {
    "colab_type": "text",
    "id": "1dCb1q8XphcP",
    "toc-hr-collapsed": true
   },
   "source": [
    "## Stretch Goals\n",
    "\n",
    "* Analyze another corpus of documents - such as Indeed.com job listings ;).\n",
    "* Play with the Spacy API to\n",
    " - Extract Named Entities\n",
    " - Extracting 'noun chunks'\n",
    " - Attempt Document Classification with just Spacy\n",
    " - *Note:* This [course](https://course.spacy.io/) will be of interesting in helping you with these stretch goals. \n",
    "* Try to build a plotly dash app with your text data \n",
    "\n"
   ]
  }
 ],
 "metadata": {
  "colab": {
   "collapsed_sections": [],
   "name": "LS_DS_421_Text_Data_Assignment.ipynb",
   "provenance": [],
   "version": "0.3.2"
  },
  "kernelspec": {
   "display_name": "4-1",
   "language": "python",
   "name": "4-1"
  },
  "language_info": {
   "codemirror_mode": {
    "name": "ipython",
    "version": 3
   },
   "file_extension": ".py",
   "mimetype": "text/x-python",
   "name": "python",
   "nbconvert_exporter": "python",
   "pygments_lexer": "ipython3",
   "version": "3.7.0"
  },
  "toc-autonumbering": false
 },
 "nbformat": 4,
 "nbformat_minor": 4
}
