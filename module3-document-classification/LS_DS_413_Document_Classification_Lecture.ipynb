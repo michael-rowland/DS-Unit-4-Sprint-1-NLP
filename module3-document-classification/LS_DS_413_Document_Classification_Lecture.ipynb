{
 "cells": [
  {
   "cell_type": "markdown",
   "metadata": {},
   "source": [
    "Lambda School Data Science\n",
    "\n",
    "*Unit 4, Sprint 1, Module 3*\n",
    "\n",
    "---"
   ]
  },
  {
   "cell_type": "markdown",
   "metadata": {},
   "source": [
    "# Document Classification (Prepare)\n",
    "\n",
    "Today's guided module project will be different. You already know how to do classification. You ready know how to extract features from documents. So? That means you're ready to combine and practice those skills in a kaggle competition. We we will open with a five minute sprint explaining the competition, and then give you 25 minutes to work. After those twenty five minutes are up, I will give a 5-minute demo an NLP technique that will help you with document classification (*and **maybe** the competition*).\n",
    "\n",
    "Today's all about having fun and practicing your skills. The competition will begin\n",
    "\n",
    "## Learning Objectives\n",
    "* <a href=\"#p1\">Part 1</a>: Text Feature Extraction & Classification Pipelines\n",
    "* <a href=\"#p2\">Part 2</a>: Latent Semantic Indexing\n",
    "* <a href=\"#p3\">Part 3</a>: Word Embeddings with Spacy"
   ]
  },
  {
   "cell_type": "markdown",
   "metadata": {},
   "source": [
    "# Text Feature Extraction & Classification Pipelines (Learn)\n",
    "<a id=\"p1\"></a>"
   ]
  },
  {
   "cell_type": "markdown",
   "metadata": {},
   "source": [
    "## Overview\n",
    "\n",
    "Sklearn pipelines allow you to stitch together multiple components of a machine learning process. The idea is that you can pass you raw data and get predictions out of the pipeline. This ability to pass raw input and receive a prediction from a singular class makes pipelines well suited for production, because you can pickle a a pipeline without worry about other data preprocessing steps. \n",
    "\n",
    "*Note:* Each time we call the pipeline during grid search, each component is fit again. The vectorizer (tf-idf) is transforming our entire vocabulary during each cross-validation fold. That transformation adds significant run time to our grid search. There *might* be interactions between the vectorizer and our classifier, so we estimate their performance together in the code below. However, if your goal is to reduce run time. Train your vectorizer separately (ie out of the grid-searched pipeline). "
   ]
  },
  {
   "cell_type": "code",
   "execution_count": 1,
   "metadata": {},
   "outputs": [],
   "source": [
    "# Import Statements\n",
    "from sklearn.pipeline import Pipeline\n",
    "from sklearn.datasets import fetch_20newsgroups\n",
    "from sklearn.ensemble import RandomForestClassifier\n",
    "from sklearn.model_selection import GridSearchCV\n",
    "from sklearn.feature_extraction.text import TfidfVectorizer"
   ]
  },
  {
   "cell_type": "code",
   "execution_count": 2,
   "metadata": {},
   "outputs": [],
   "source": [
    "# Dataset\n",
    "from sklearn.datasets import fetch_20newsgroups\n",
    "\n",
    "categories = ['alt.atheism',\n",
    "              'talk.religion.misc']\n",
    "\n",
    "data = fetch_20newsgroups(subset='train', categories=categories)"
   ]
  },
  {
   "cell_type": "code",
   "execution_count": 5,
   "metadata": {},
   "outputs": [
    {
     "name": "stdout",
     "output_type": "stream",
     "text": [
      "From: mangoe@cs.umd.edu (Charley Wingate)\n",
      "Subject: Benediktine Metaphysics\n",
      "Lines: 24\n",
      "\n",
      "Benedikt Rosenau writes, with great authority:\n",
      "\n",
      ">     IF IT IS CONTRADICTORY IT CANNOT EXIST.\n",
      "\n",
      "\"Contradictory\" is a property of language.  If I correct this to\n",
      "\n",
      "\n",
      "      THINGS DEFINED BY CONTRADICTORY LANGUAGE DO NOT EXIST\n",
      "\n",
      "I will object to definitions as reality.  If you then amend it to\n",
      "\n",
      "      THINGS DESCRIBED BY CONTRADICTORY LANGUAGE DO NOT EXIST\n",
      "\n",
      "then we've come to something which is plainly false.  Failures in\n",
      "description are merely failures in description.\n",
      "\n",
      "(I'm not an objectivist, remember.)\n",
      "\n",
      "\n",
      "-- \n",
      "C. Wingate        + \"The peace of God, it is no peace,\n",
      "                  +    but strife closed in the sod.\n",
      "mangoe@cs.umd.edu +  Yet, brothers, pray for but one thing:\n",
      "tove!mangoe       +    the marv'lous peace of God.\"\n",
      "\n"
     ]
    }
   ],
   "source": [
    "#print out data sample\n",
    "print(data['data'][0])"
   ]
  },
  {
   "cell_type": "code",
   "execution_count": 6,
   "metadata": {},
   "outputs": [],
   "source": [
    "# Create Pipeline Components\n",
    "\n",
    "vect = TfidfVectorizer(stop_words='english', ngram_range=(1,2))\n",
    "rfc = RandomForestClassifier()"
   ]
  },
  {
   "cell_type": "code",
   "execution_count": 7,
   "metadata": {},
   "outputs": [],
   "source": [
    "# Define the Pipeline\n",
    "pipe = Pipeline([\n",
    "                 #Vectorizer\n",
    "                 ('vect', vect),\n",
    "                 # Classifier\n",
    "                 ('clf', rfc)\n",
    "                ])\n",
    "\n",
    "# The pipeline puts together a bunch fit then transform,fit then predict. "
   ]
  },
  {
   "cell_type": "code",
   "execution_count": 8,
   "metadata": {},
   "outputs": [
    {
     "name": "stdout",
     "output_type": "stream",
     "text": [
      "Fitting 5 folds for each of 32 candidates, totalling 160 fits\n"
     ]
    },
    {
     "name": "stderr",
     "output_type": "stream",
     "text": [
      "[Parallel(n_jobs=-1)]: Using backend LokyBackend with 12 concurrent workers.\n",
      "[Parallel(n_jobs=-1)]: Done  26 tasks      | elapsed:    4.7s\n",
      "[Parallel(n_jobs=-1)]: Done 160 out of 160 | elapsed:   19.1s finished\n"
     ]
    },
    {
     "data": {
      "text/plain": [
       "GridSearchCV(cv=5, error_score=nan,\n",
       "             estimator=Pipeline(memory=None,\n",
       "                                steps=[('vect',\n",
       "                                        TfidfVectorizer(analyzer='word',\n",
       "                                                        binary=False,\n",
       "                                                        decode_error='strict',\n",
       "                                                        dtype=<class 'numpy.float64'>,\n",
       "                                                        encoding='utf-8',\n",
       "                                                        input='content',\n",
       "                                                        lowercase=True,\n",
       "                                                        max_df=1.0,\n",
       "                                                        max_features=None,\n",
       "                                                        min_df=1,\n",
       "                                                        ngram_range=(1, 2),\n",
       "                                                        norm='l2',\n",
       "                                                        preprocessor=None,\n",
       "                                                        smooth_idf=True,\n",
       "                                                        stop_words='english',\n",
       "                                                        strip...\n",
       "                                                               n_jobs=None,\n",
       "                                                               oob_score=False,\n",
       "                                                               random_state=None,\n",
       "                                                               verbose=0,\n",
       "                                                               warm_start=False))],\n",
       "                                verbose=False),\n",
       "             iid='deprecated', n_jobs=-1,\n",
       "             param_grid={'clf__max_depth': (15, 20),\n",
       "                         'clf__n_estimators': (5, 10),\n",
       "                         'vect__max_df': (0.75, 1.0),\n",
       "                         'vect__max_features': (500, 1000),\n",
       "                         'vect__min_df': (0.02, 0.05)},\n",
       "             pre_dispatch='2*n_jobs', refit=True, return_train_score=False,\n",
       "             scoring=None, verbose=1)"
      ]
     },
     "execution_count": 8,
     "metadata": {},
     "output_type": "execute_result"
    }
   ],
   "source": [
    "parameters = {\n",
    "    'vect__max_df': (0.75, 1.0),\n",
    "    'vect__min_df': (.02, .05),\n",
    "    'vect__max_features': (500,1000),\n",
    "    'clf__n_estimators':(5, 10,),\n",
    "    'clf__max_depth':(15,20)\n",
    "}\n",
    "\n",
    "grid_search = GridSearchCV(pipe,parameters, cv=5, n_jobs=-1, verbose=1)\n",
    "grid_search.fit(data.data, data.target)"
   ]
  },
  {
   "cell_type": "code",
   "execution_count": 9,
   "metadata": {},
   "outputs": [
    {
     "data": {
      "text/plain": [
       "0.8996532027743779"
      ]
     },
     "execution_count": 9,
     "metadata": {},
     "output_type": "execute_result"
    }
   ],
   "source": [
    "grid_search.best_score_"
   ]
  },
  {
   "cell_type": "code",
   "execution_count": 10,
   "metadata": {},
   "outputs": [
    {
     "data": {
      "text/plain": [
       "array([1, 1])"
      ]
     },
     "execution_count": 10,
     "metadata": {},
     "output_type": "execute_result"
    }
   ],
   "source": [
    "grid_search.predict(['Send me lots of money now', 'you won the lottery in Nigeria'])"
   ]
  },
  {
   "cell_type": "markdown",
   "metadata": {
    "toc-hr-collapsed": true
   },
   "source": [
    "## Follow Along \n",
    "\n",
    "What you should be doing now:\n",
    "1. Join the Kaggle Competition\n",
    "2. Download the data\n",
    "3. Train a model (try using the pipe method I just demoed)"
   ]
  },
  {
   "cell_type": "markdown",
   "metadata": {},
   "source": [
    "## Challenge\n",
    "\n",
    "You're trying to achieve 75% Accuracy on your model."
   ]
  },
  {
   "cell_type": "markdown",
   "metadata": {},
   "source": [
    "## Latent Semantic Indexing (Learn)\n",
    "<a id=\"p2\"></a>"
   ]
  },
  {
   "cell_type": "markdown",
   "metadata": {},
   "source": [
    "## Overview"
   ]
  },
  {
   "cell_type": "code",
   "execution_count": 32,
   "metadata": {},
   "outputs": [],
   "source": [
    "# Import\n",
    "\n",
    "from sklearn.decomposition import TruncatedSVD\n",
    "\n",
    "# vect = TfidfVectorizer we created earlier \n",
    "# Probably better practice to recreate here\n",
    "\n",
    "vect = TfidfVectorizer(stop_words='english', min_df=5)\n",
    "\n",
    "svd = TruncatedSVD(n_components=100, # Just here for demo. \n",
    "                   algorithm='randomized',\n",
    "                   n_iter=10)"
   ]
  },
  {
   "cell_type": "code",
   "execution_count": 28,
   "metadata": {},
   "outputs": [],
   "source": [
    "params = { \n",
    "    'lsi__svd__n_components': [10,100,250],\n",
    "    'lsi__vect__max_df':[.9, .95, 1.0],\n",
    "    'lsi__vect__ngram_range':[(1,1),(1,2),(1,3)],\n",
    "    'clf__n_estimators':[5,10,20]\n",
    "}"
   ]
  },
  {
   "cell_type": "code",
   "execution_count": 29,
   "metadata": {},
   "outputs": [],
   "source": [
    "# LSI\n",
    "lsi = Pipeline([('vect', vect), ('svd', svd)])\n",
    "\n",
    "# Pipe\n",
    "pipe = Pipeline([('lsi', lsi), ('clf', rfc)])"
   ]
  },
  {
   "cell_type": "code",
   "execution_count": 33,
   "metadata": {},
   "outputs": [
    {
     "name": "stdout",
     "output_type": "stream",
     "text": [
      "Pipeline(memory=None,\n",
      "         steps=[('lsi',\n",
      "                 Pipeline(memory=None,\n",
      "                          steps=[('vect',\n",
      "                                  TfidfVectorizer(analyzer='word', binary=False,\n",
      "                                                  decode_error='strict',\n",
      "                                                  dtype=<class 'numpy.float64'>,\n",
      "                                                  encoding='utf-8',\n",
      "                                                  input='content',\n",
      "                                                  lowercase=True, max_df=1.0,\n",
      "                                                  max_features=None, min_df=5,\n",
      "                                                  ngram_range=(1, 1), norm='l2',\n",
      "                                                  preprocessor=None,\n",
      "                                                  smooth_idf=True,\n",
      "                                                  stop_words='english',\n",
      "                                                  strip_accents=...\n",
      "                 RandomForestClassifier(bootstrap=True, ccp_alpha=0.0,\n",
      "                                        class_weight=None, criterion='gini',\n",
      "                                        max_depth=None, max_features='auto',\n",
      "                                        max_leaf_nodes=None, max_samples=None,\n",
      "                                        min_impurity_decrease=0.0,\n",
      "                                        min_impurity_split=None,\n",
      "                                        min_samples_leaf=1, min_samples_split=2,\n",
      "                                        min_weight_fraction_leaf=0.0,\n",
      "                                        n_estimators=100, n_jobs=None,\n",
      "                                        oob_score=False, random_state=None,\n",
      "                                        verbose=0, warm_start=False))],\n",
      "         verbose=False)\n"
     ]
    }
   ],
   "source": [
    "print(pipe)"
   ]
  },
  {
   "cell_type": "code",
   "execution_count": 30,
   "metadata": {},
   "outputs": [
    {
     "name": "stdout",
     "output_type": "stream",
     "text": [
      "Fitting 5 folds for each of 81 candidates, totalling 405 fits\n"
     ]
    },
    {
     "name": "stderr",
     "output_type": "stream",
     "text": [
      "[Parallel(n_jobs=-1)]: Using backend LokyBackend with 12 concurrent workers.\n",
      "[Parallel(n_jobs=-1)]: Done  26 tasks      | elapsed:    3.3s\n",
      "[Parallel(n_jobs=-1)]: Done 176 tasks      | elapsed:   46.8s\n",
      "[Parallel(n_jobs=-1)]: Done 405 out of 405 | elapsed:  2.0min finished\n"
     ]
    },
    {
     "data": {
      "text/plain": [
       "GridSearchCV(cv=5, error_score=nan,\n",
       "             estimator=Pipeline(memory=None,\n",
       "                                steps=[('lsi',\n",
       "                                        Pipeline(memory=None,\n",
       "                                                 steps=[('vect',\n",
       "                                                         TfidfVectorizer(analyzer='word',\n",
       "                                                                         binary=False,\n",
       "                                                                         decode_error='strict',\n",
       "                                                                         dtype=<class 'numpy.float64'>,\n",
       "                                                                         encoding='utf-8',\n",
       "                                                                         input='content',\n",
       "                                                                         lowercase=True,\n",
       "                                                                         max_df=1.0,\n",
       "                                                                         max_features=None,\n",
       "                                                                         min_df=5,\n",
       "                                                                         ngram_range=(1,\n",
       "                                                                                      1),\n",
       "                                                                         norm='l2',\n",
       "                                                                         preprocessor=None,\n",
       "                                                                         smooth_...\n",
       "                                                               oob_score=False,\n",
       "                                                               random_state=None,\n",
       "                                                               verbose=0,\n",
       "                                                               warm_start=False))],\n",
       "                                verbose=False),\n",
       "             iid='deprecated', n_jobs=-1,\n",
       "             param_grid={'clf__n_estimators': [5, 10, 20],\n",
       "                         'lsi__svd__n_components': [10, 100, 250],\n",
       "                         'lsi__vect__max_df': [0.9, 0.95, 1.0],\n",
       "                         'lsi__vect__ngram_range': [(1, 1), (1, 2), (1, 3)]},\n",
       "             pre_dispatch='2*n_jobs', refit=True, return_train_score=False,\n",
       "             scoring=None, verbose=1)"
      ]
     },
     "execution_count": 30,
     "metadata": {},
     "output_type": "execute_result"
    }
   ],
   "source": [
    "# Fit\n",
    "grid_search = GridSearchCV(pipe,params, cv=5, n_jobs=-1, verbose=1)\n",
    "grid_search.fit(data.data, data.target)"
   ]
  },
  {
   "cell_type": "code",
   "execution_count": 31,
   "metadata": {},
   "outputs": [
    {
     "data": {
      "text/plain": [
       "0.9089691282469741"
      ]
     },
     "execution_count": 31,
     "metadata": {},
     "output_type": "execute_result"
    }
   ],
   "source": [
    "grid_search.best_score_"
   ]
  },
  {
   "cell_type": "markdown",
   "metadata": {
    "toc-hr-collapsed": true
   },
   "source": [
    "## Follow Along\n",
    "1. Join the Kaggle Competition\n",
    "2. Download the data\n",
    "3. Train a model & try: \n",
    "    - Creating a Text Extraction & Classification Pipeline\n",
    "    - Tune the pipeline with a `GridSearchCV` or `RandomizedSearchCV`\n",
    "    - Add some Latent Semantic Indexing (lsi) into your pipeline. *Note:* You can grid search a nested pipeline, but you have to use double underscores ie `lsi__svd__n_components`\n",
    "4. Make a submission to Kaggle \n"
   ]
  },
  {
   "cell_type": "markdown",
   "metadata": {},
   "source": [
    "## Challenge\n",
    "\n",
    "Continue to apply Latent Semantic Indexing (LSI) to various datasets. "
   ]
  },
  {
   "cell_type": "markdown",
   "metadata": {},
   "source": [
    "# Word Embeddings with Spacy (Learn)\n",
    "<a id=\"p3\"></a>"
   ]
  },
  {
   "cell_type": "markdown",
   "metadata": {},
   "source": [
    "# Overview"
   ]
  },
  {
   "cell_type": "code",
   "execution_count": 34,
   "metadata": {},
   "outputs": [],
   "source": [
    "import spacy\n",
    "nlp = spacy.load(\"en_core_web_lg\")"
   ]
  },
  {
   "cell_type": "code",
   "execution_count": 35,
   "metadata": {},
   "outputs": [],
   "source": [
    "doc = nlp(\"Two bananas in pyjamas\")"
   ]
  },
  {
   "cell_type": "code",
   "execution_count": 36,
   "metadata": {},
   "outputs": [
    {
     "name": "stdout",
     "output_type": "stream",
     "text": [
      "300\n"
     ]
    }
   ],
   "source": [
    "bananas_vector = doc.vector\n",
    "print(len(bananas_vector))"
   ]
  },
  {
   "cell_type": "code",
   "execution_count": 37,
   "metadata": {},
   "outputs": [],
   "source": [
    "def get_word_vectors(docs):\n",
    "    return [nlp(doc).vector for doc in docs]"
   ]
  },
  {
   "cell_type": "code",
   "execution_count": 38,
   "metadata": {},
   "outputs": [],
   "source": [
    "X = get_word_vectors(data.data)"
   ]
  },
  {
   "cell_type": "code",
   "execution_count": 39,
   "metadata": {},
   "outputs": [
    {
     "data": {
      "text/plain": [
       "[array([-2.24261973e-02,  1.16948791e-01, -1.40623569e-01, -8.97146240e-02,\n",
       "         5.67572452e-02,  2.33658105e-02, -1.04296878e-02, -3.83221991e-02,\n",
       "        -3.14497203e-02,  1.60095787e+00, -1.52854711e-01,  7.60015845e-02,\n",
       "         3.35256122e-02, -3.82818922e-04, -8.83924514e-02, -2.05108356e-02,\n",
       "        -6.14920035e-02,  8.94030511e-01, -1.21286541e-01, -1.76449474e-02,\n",
       "         3.00883572e-03, -2.65389066e-02,  5.69479540e-03,  3.20637971e-02,\n",
       "         1.32068964e-02,  3.05791143e-02, -4.84521687e-02, -4.10817144e-03,\n",
       "         3.47910374e-02, -2.70029213e-02, -4.06233370e-02,  9.24473107e-02,\n",
       "        -4.75446433e-02,  1.73872765e-02,  7.95437545e-02, -3.22926454e-02,\n",
       "         2.25547757e-02,  3.64724770e-02, -8.19447264e-02, -1.99605860e-02,\n",
       "        -1.32072708e-02,  3.00613586e-02,  1.62900332e-02, -1.20532522e-02,\n",
       "        -8.38013925e-03, -7.63823558e-03, -6.95322007e-02,  3.03549431e-02,\n",
       "        -2.01541363e-04,  1.80957410e-02, -4.44174521e-02,  8.56731161e-02,\n",
       "        -6.44384250e-02, -1.01379957e-02,  3.68251912e-02,  1.61645990e-02,\n",
       "        -8.66862293e-03, -4.81753200e-02,  1.90909673e-02, -4.76901345e-02,\n",
       "        -5.07223085e-02, -2.60085408e-02, -1.90023445e-02,  6.04435168e-02,\n",
       "        -7.29399547e-03, -4.32707965e-02, -2.54089432e-03,  1.44851059e-02,\n",
       "        -1.72077212e-02,  1.00335248e-01,  1.66902028e-03,  5.13673201e-02,\n",
       "         1.01042941e-01, -3.83405089e-02,  1.16151392e-01,  4.48766649e-02,\n",
       "        -2.92251091e-02, -5.20351082e-02, -5.48995920e-02,  1.75982296e-01,\n",
       "        -3.50107662e-02,  5.00081144e-02, -9.77369025e-02, -4.45048884e-02,\n",
       "         3.29432823e-02, -2.18612060e-01,  9.47913155e-02, -2.76871473e-01,\n",
       "         1.84978187e-01,  1.12034185e-02, -1.17016964e-01,  7.41585682e-04,\n",
       "        -7.65368566e-02,  1.16831893e-02,  1.07339531e-01,  1.20514473e-02,\n",
       "        -6.36487007e-02, -4.93548214e-02,  1.16742151e-02, -5.68343773e-02,\n",
       "        -5.47548151e-03,  1.46009307e-02, -4.84171361e-02,  3.87900206e-03,\n",
       "         1.03004590e-01, -4.51588541e-01,  1.06050875e-02,  1.88465379e-02,\n",
       "        -4.00046371e-02,  8.29541311e-02, -1.50775285e-02, -7.88107589e-02,\n",
       "         5.66262715e-02, -1.28116801e-01, -4.36016284e-02, -2.58045215e-02,\n",
       "         1.84562821e-02, -3.28731574e-02, -4.23721559e-02, -8.58055800e-02,\n",
       "        -1.34064173e-02, -6.57399446e-02,  2.28124205e-02,  3.35416906e-02,\n",
       "         3.31814401e-02,  4.62324321e-02,  1.40879098e-02, -8.38614628e-02,\n",
       "         4.22727168e-02, -4.57413048e-02,  4.46854159e-02, -3.99017660e-03,\n",
       "        -6.53222352e-02,  2.04042066e-03,  7.08221085e-03,  9.88571495e-02,\n",
       "         1.34236468e-02, -2.78376359e-02,  1.16308173e-02,  8.26605409e-03,\n",
       "        -7.89071023e-01,  9.22556743e-02,  9.05948281e-02,  2.34123059e-02,\n",
       "        -2.58604297e-03, -2.31077685e-03,  2.24269857e-03,  1.26571385e-02,\n",
       "        -2.76336856e-02, -8.14458057e-02,  2.82807127e-02,  2.72207540e-02,\n",
       "         3.06711961e-02,  4.45985831e-02,  1.63870899e-03, -2.84041129e-02,\n",
       "        -1.04572043e-01, -1.19941272e-01, -1.31949652e-02, -6.71681203e-03,\n",
       "         1.01320213e-02,  1.56351773e-03, -1.24058640e-02, -2.09471285e-02,\n",
       "        -1.43706679e-01, -8.14125761e-02,  3.01197022e-02, -3.35221440e-02,\n",
       "         6.46543577e-02,  1.81645099e-02, -1.49824405e-02,  3.29184979e-02,\n",
       "         7.21177086e-02, -1.03158481e-01,  1.65972561e-02,  6.25339150e-02,\n",
       "         5.22560291e-02, -2.61695534e-02, -2.15428765e-03, -1.23825453e-01,\n",
       "         2.25111954e-02, -2.44774707e-02, -6.87108040e-02, -7.82508329e-02,\n",
       "        -1.01412214e-01, -9.40319803e-03, -8.00314248e-02, -3.63482232e-03,\n",
       "         7.33532086e-02,  1.85952038e-02, -6.29070923e-02,  1.58203989e-02,\n",
       "        -8.14530924e-02,  4.11531068e-02,  1.72483642e-02,  5.91628253e-02,\n",
       "        -9.58606526e-02, -1.62056923e-01,  1.36137567e-02,  2.06642658e-01,\n",
       "        -5.25170527e-02, -2.81243678e-02, -8.63770023e-02,  1.17431507e-02,\n",
       "         8.88439268e-02, -1.68050062e-02,  1.16265416e-02,  5.43329772e-03,\n",
       "         3.06705832e-02,  7.15277623e-03, -2.47791801e-02, -7.13435486e-02,\n",
       "         5.08098230e-02, -1.30577520e-01,  4.75263149e-02, -6.42042421e-03,\n",
       "        -2.08248328e-02,  7.28075802e-02, -2.24588990e-01,  1.78690329e-02,\n",
       "         4.00597155e-02,  2.88579948e-02, -1.22829098e-02,  3.58755067e-02,\n",
       "         5.09725623e-02,  1.37627274e-02,  2.70046294e-02,  4.72648442e-02,\n",
       "        -1.36863394e-02, -2.96436492e-02, -8.52983668e-02,  3.44847590e-02,\n",
       "         1.01481952e-01,  4.78846468e-02, -5.01865000e-02, -3.25704776e-02,\n",
       "        -3.09856422e-02, -7.72578940e-02, -9.80750248e-02,  6.57135993e-02,\n",
       "         5.15750460e-02,  2.51168199e-02,  4.41309810e-02,  3.13052386e-02,\n",
       "         8.82827714e-02, -1.01821758e-01, -4.50850204e-02, -9.64435339e-02,\n",
       "        -1.10256881e-01,  2.60082874e-02,  6.39615878e-02,  2.94563151e-03,\n",
       "        -5.54638840e-02, -6.27679899e-02, -2.14260146e-02,  1.81864828e-01,\n",
       "         1.06344678e-01, -8.90759751e-02,  1.65668260e-02,  3.51159796e-02,\n",
       "         5.27693778e-02,  1.30297214e-01,  1.33668073e-02,  1.03425533e-01,\n",
       "         2.14397162e-02, -7.30981007e-02,  1.53310355e-02,  4.59636897e-02,\n",
       "         3.61959636e-01, -2.10708547e-02,  2.27870960e-02, -3.18665951e-02,\n",
       "        -9.46877077e-02, -8.67584869e-02, -1.71733480e-02,  1.31538529e-02,\n",
       "         5.39100766e-02,  2.55729947e-02, -2.36161835e-02,  1.36125967e-01,\n",
       "         1.92951471e-01, -4.59868610e-02,  1.08493403e-01, -1.26087055e-01,\n",
       "        -4.32118215e-02, -7.97328427e-02,  3.02468166e-02, -3.52702825e-03,\n",
       "         1.70603245e-01, -6.90357313e-02, -1.01174608e-01,  5.03605530e-02,\n",
       "        -8.23118985e-02, -8.99672043e-03, -3.47634824e-03,  4.15571742e-02,\n",
       "        -5.58306649e-02, -5.20813651e-02,  1.70197859e-02,  1.06796706e-02],\n",
       "       dtype=float32),\n",
       " array([-5.91546893e-02,  1.66390315e-01, -1.44045502e-01, -5.67163639e-02,\n",
       "         5.80638796e-02,  5.29522225e-02, -2.35968898e-03, -5.60895167e-02,\n",
       "        -1.43306879e-02,  1.70569122e+00, -1.40033841e-01,  2.90797465e-02,\n",
       "         1.10327080e-01, -5.60384616e-03, -8.27021226e-02, -2.07248665e-02,\n",
       "        -6.93949312e-02,  1.04727900e+00, -1.64538205e-01, -6.56603128e-02,\n",
       "         3.88796232e-03, -3.06900609e-02, -4.50399369e-02, -1.59767792e-02,\n",
       "         1.25971921e-02,  4.28764410e-02, -1.57098111e-03, -2.75118742e-02,\n",
       "         5.57861067e-02, -8.49136561e-02, -8.37734789e-02,  9.24612656e-02,\n",
       "        -2.14419030e-02,  3.22173014e-02,  1.10249996e-01, -3.56268100e-02,\n",
       "         1.52126774e-02,  7.63674527e-02, -5.10283224e-02, -4.38927896e-02,\n",
       "         1.79874152e-03,  8.07335377e-02,  2.10013706e-03, -3.70181492e-03,\n",
       "         3.32718007e-02,  7.86781497e-03, -1.25200421e-01,  6.19883509e-03,\n",
       "         1.72659568e-02,  1.61918160e-02, -1.58756487e-02,  5.90097569e-02,\n",
       "        -5.00161340e-03, -3.90093811e-02,  4.28906791e-02, -2.88006365e-02,\n",
       "        -2.27596913e-03, -6.94377273e-02,  2.41569318e-02, -2.85960212e-02,\n",
       "        -1.33446073e-02, -3.98474149e-02,  1.99741367e-02,  9.90493968e-02,\n",
       "         2.18180213e-02, -1.00670315e-01, -2.32844427e-02,  4.71820682e-02,\n",
       "         2.08578575e-02,  9.30474475e-02,  5.48596010e-02,  3.26817408e-02,\n",
       "         1.42935470e-01, -5.81527874e-03,  1.02638833e-01,  2.53030285e-02,\n",
       "         3.98136536e-03, -6.33791834e-02, -3.45181674e-02,  1.69625103e-01,\n",
       "        -5.67622017e-03,  3.18379886e-02, -1.55774370e-01, -4.09180112e-02,\n",
       "         3.32776867e-02, -2.65653998e-01, -4.87680696e-02, -1.44310772e-01,\n",
       "         1.37566596e-01,  5.67740090e-02, -1.15079015e-01,  6.70627132e-02,\n",
       "        -9.09316987e-02,  2.16558147e-02,  6.28973693e-02,  1.00300955e-02,\n",
       "        -6.02980033e-02, -6.77733198e-02, -5.59943775e-03, -2.45736036e-02,\n",
       "        -1.16088265e-03,  2.55027618e-02, -6.97951019e-02, -3.04016583e-02,\n",
       "         9.19818655e-02, -4.47197825e-01,  6.55813962e-02,  2.91228527e-03,\n",
       "         4.38242070e-02,  9.63119790e-02,  3.91884744e-02, -9.68821496e-02,\n",
       "         6.53757229e-02, -9.49530527e-02, -1.40423067e-02, -5.04298368e-03,\n",
       "        -1.56112444e-02, -1.43551650e-02, -2.58184280e-02, -2.31008120e-02,\n",
       "         2.37651914e-02, -8.25471580e-02,  1.66155100e-02, -7.92376697e-03,\n",
       "         2.09511463e-02,  4.61843461e-02,  4.99553513e-03, -6.18010350e-02,\n",
       "         6.25209585e-02, -1.24342591e-02,  1.35567337e-02,  1.12810908e-02,\n",
       "        -6.27401471e-02,  1.10171167e-02,  4.30297703e-02,  6.51871189e-02,\n",
       "        -5.44558931e-03, -1.44164320e-02, -4.66771238e-03,  1.99314542e-02,\n",
       "        -9.08735037e-01,  8.82065594e-02,  9.46877599e-02,  5.59340492e-02,\n",
       "        -2.43173651e-02, -5.19321375e-02, -7.07740858e-02,  1.28401071e-02,\n",
       "         7.28752557e-03, -5.81666455e-02,  1.56848021e-02,  3.95476446e-03,\n",
       "         4.17295545e-02,  1.46330325e-02, -1.93516805e-03, -2.88417023e-02,\n",
       "        -8.69438350e-02, -7.64749497e-02,  4.33780393e-03, -2.93017682e-02,\n",
       "        -6.46982389e-03, -5.15721226e-03, -9.94955096e-03, -4.51407023e-02,\n",
       "        -1.09200828e-01, -9.54486653e-02,  2.58709732e-02, -6.58803061e-02,\n",
       "         8.89713690e-02,  2.41781529e-02,  2.18833913e-03,  4.33356278e-02,\n",
       "         4.59698327e-02, -8.33344236e-02, -3.29594538e-02,  4.92382422e-02,\n",
       "         3.49142626e-02, -3.54802283e-03,  1.57809984e-02, -7.13951364e-02,\n",
       "         3.22780013e-02, -2.38022301e-02, -4.65141647e-02, -7.38337934e-02,\n",
       "        -5.16213290e-02, -6.35375157e-02, -3.92284170e-02,  2.86552105e-02,\n",
       "         2.88532525e-02,  1.76842697e-02, -2.49866415e-02,  1.43028470e-02,\n",
       "        -1.22097701e-01,  8.39112028e-02,  1.96155813e-02,  8.27571154e-02,\n",
       "        -1.01918258e-01, -5.55725358e-02,  2.26288754e-02,  2.15343282e-01,\n",
       "        -9.13992003e-02, -7.66244158e-02, -6.59281537e-02,  9.14092455e-03,\n",
       "         1.04735829e-01, -1.97168496e-02,  4.70301956e-02,  1.03959627e-02,\n",
       "         3.05049736e-02, -3.87243703e-02, -7.32055381e-02, -1.32917449e-01,\n",
       "         6.23905449e-04, -1.51715517e-01,  7.79475570e-02,  2.41899956e-02,\n",
       "        -8.70116055e-03,  5.81432618e-02, -2.26808786e-01, -5.40578105e-02,\n",
       "         4.88213673e-02,  7.85739943e-02, -3.18469964e-02,  4.26904298e-02,\n",
       "         2.96057146e-02, -1.48713859e-02,  1.95198059e-02,  5.92700019e-02,\n",
       "         3.10600512e-02,  9.03133396e-03, -9.81993675e-02, -1.10589294e-02,\n",
       "         7.58317634e-02,  4.42480445e-02, -4.96675931e-02, -1.78136844e-02,\n",
       "        -4.23727147e-02, -5.14983274e-02, -7.28031099e-02,  9.55217853e-02,\n",
       "         4.02206518e-02,  3.32359709e-02,  2.38310397e-02,  4.86034080e-02,\n",
       "         5.41237816e-02, -1.15521923e-01, -7.96540007e-02, -1.17868811e-01,\n",
       "        -1.14303641e-01,  6.42048568e-02,  5.12172654e-02, -4.89855185e-02,\n",
       "        -5.80553934e-02, -2.38473043e-02,  5.36432080e-02,  1.57792106e-01,\n",
       "         8.59664306e-02, -3.02318297e-02,  1.19520072e-02,  3.62992883e-02,\n",
       "         5.94151616e-02,  1.40106484e-01,  4.64293435e-02,  7.54103214e-02,\n",
       "         7.12074414e-02, -7.94428587e-02, -3.13124321e-02,  2.13791952e-02,\n",
       "         3.70512694e-01,  6.38968349e-02, -8.16640444e-03, -2.45024972e-02,\n",
       "        -4.92543280e-02, -1.62144497e-01, -9.56305265e-02, -8.60481989e-03,\n",
       "         6.65650796e-03,  4.69686948e-02, -1.59045812e-02,  1.59968063e-01,\n",
       "         1.77337021e-01,  7.51592033e-03,  6.29251450e-02, -7.99544677e-02,\n",
       "        -3.32663916e-02, -8.77029225e-02,  7.29004815e-02, -8.04233626e-02,\n",
       "         1.22197025e-01, -6.17846921e-02, -1.34520367e-01,  3.97534110e-02,\n",
       "        -4.90991473e-02, -3.27701047e-02, -7.95419235e-03,  2.33673137e-02,\n",
       "        -2.56655924e-02, -3.68680172e-02, -1.46963531e-02,  6.36383966e-02],\n",
       "       dtype=float32)]"
      ]
     },
     "execution_count": 39,
     "metadata": {},
     "output_type": "execute_result"
    }
   ],
   "source": [
    "X[:2]"
   ]
  },
  {
   "cell_type": "code",
   "execution_count": 40,
   "metadata": {},
   "outputs": [],
   "source": [
    "rfc = RandomForestClassifier()"
   ]
  },
  {
   "cell_type": "code",
   "execution_count": 41,
   "metadata": {},
   "outputs": [
    {
     "data": {
      "text/plain": [
       "RandomForestClassifier(bootstrap=True, ccp_alpha=0.0, class_weight=None,\n",
       "                       criterion='gini', max_depth=None, max_features='auto',\n",
       "                       max_leaf_nodes=None, max_samples=None,\n",
       "                       min_impurity_decrease=0.0, min_impurity_split=None,\n",
       "                       min_samples_leaf=1, min_samples_split=2,\n",
       "                       min_weight_fraction_leaf=0.0, n_estimators=100,\n",
       "                       n_jobs=None, oob_score=False, random_state=None,\n",
       "                       verbose=0, warm_start=False)"
      ]
     },
     "execution_count": 41,
     "metadata": {},
     "output_type": "execute_result"
    }
   ],
   "source": [
    "rfc.fit(X, data.target)"
   ]
  },
  {
   "cell_type": "code",
   "execution_count": 42,
   "metadata": {},
   "outputs": [
    {
     "data": {
      "text/plain": [
       "1.0"
      ]
     },
     "execution_count": 42,
     "metadata": {},
     "output_type": "execute_result"
    }
   ],
   "source": [
    "rfc.score(X,data.target)"
   ]
  },
  {
   "cell_type": "markdown",
   "metadata": {},
   "source": [
    "## Follow Along"
   ]
  },
  {
   "cell_type": "markdown",
   "metadata": {},
   "source": [
    "## Challenge\n",
    "\n",
    "What you should be doing now:\n",
    "1. Join the Kaggle Competition\n",
    "2. Download the data\n",
    "3. Train a model & try: \n",
    "    - Creating a Text Extraction & Classification Pipeline\n",
    "    - Tune the pipeline with a `GridSearchCV` or `RandomizedSearchCV`\n",
    "    - Add some Latent Semantic Indexing (lsi) into your pipeline. *Note:* You can grid search a nested pipeline, but you have to use double underscores ie `lsi__svd__n_components`\n",
    "    - Try to extract word embeddings with Spacy and use those embeddings as your features for a classification model.\n",
    "4. Make a submission to Kaggle "
   ]
  },
  {
   "cell_type": "markdown",
   "metadata": {},
   "source": [
    "# Review\n",
    "\n",
    "To review this module: \n",
    "* Continue working on the Kaggle competition\n",
    "* Find another text classification task to work on"
   ]
  }
 ],
 "metadata": {
  "kernelspec": {
   "display_name": "U4-S1-NLP-DS11",
   "language": "python",
   "name": "u4-s1-nlp-ds11"
  },
  "language_info": {
   "codemirror_mode": {
    "name": "ipython",
    "version": 3
   },
   "file_extension": ".py",
   "mimetype": "text/x-python",
   "name": "python",
   "nbconvert_exporter": "python",
   "pygments_lexer": "ipython3",
   "version": "3.7.0"
  }
 },
 "nbformat": 4,
 "nbformat_minor": 4
}
